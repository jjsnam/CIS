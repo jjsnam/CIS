{
 "cells": [
  {
   "cell_type": "code",
   "execution_count": 1,
   "id": "46c4b0e9-9df5-4ad1-babd-f73c05eb0e57",
   "metadata": {},
   "outputs": [],
   "source": [
    "import os\n",
    "import numpy as np\n",
    "from sklearn.decomposition import PCA\n",
    "from sklearn.svm import LinearSVC\n",
    "from sklearn.preprocessing import StandardScaler\n",
    "from sklearn.metrics import classification_report, accuracy_score\n",
    "from sklearn.model_selection import train_test_split\n",
    "from sklearn.utils import shuffle  \n",
    "from tqdm import tqdm\n",
    "from joblib import dump\n",
    "from PIL import Image  "
   ]
  },
  {
   "cell_type": "code",
   "execution_count": 2,
   "id": "0e53b332-f02f-4f42-a3de-2e42fcc1407b",
   "metadata": {},
   "outputs": [],
   "source": [
    "import time\n",
    "import psutil"
   ]
  },
  {
   "cell_type": "code",
   "execution_count": 3,
   "id": "9ad297ed-3872-4460-b779-8e6111560a93",
   "metadata": {},
   "outputs": [],
   "source": [
    "# 设置数据路径\n",
    "DATA_DIR = r\"C:\\Users\\19916\\Downloads\\Fused\\datasets\\Fused\"  \n",
    "\n",
    "def load_images_from_folder(folder):\n",
    "    data = []\n",
    "    for filename in os.listdir(folder):\n",
    "        if filename.lower().endswith((\".jpg\", \".png\", \".jpeg\")):\n",
    "            img_path = os.path.join(folder, filename)\n",
    "            try:\n",
    "                image = Image.open(img_path).convert(\"L\")  \n",
    "                image = image.resize((64, 64))  \n",
    "                data.append(np.array(image).flatten())  \n",
    "            except Exception as e:\n",
    "                print(f\"无法读取图像 {img_path}，跳过：{e}\")\n",
    "    return data"
   ]
  },
  {
   "cell_type": "code",
   "execution_count": 4,
   "id": "f88c3314-89d9-47d6-b264-0d8484ffd678",
   "metadata": {},
   "outputs": [],
   "source": [
    "def load_dataset(set_name):\n",
    "    real_path = os.path.join(DATA_DIR, set_name, \"real\")\n",
    "    fake_path = os.path.join(DATA_DIR, set_name, \"fake\")\n",
    "\n",
    "    real_images = load_images_from_folder(real_path)\n",
    "    fake_images = load_images_from_folder(fake_path)\n",
    "\n",
    "    X = np.array(real_images + fake_images)\n",
    "    y = np.array([0] * len(real_images) + [1] * len(fake_images))  # 0: real, 1: fake\n",
    "\n",
    "    return shuffle(X, y, random_state=42)"
   ]
  },
  {
   "cell_type": "code",
   "execution_count": 5,
   "id": "d8758b14-ad5f-4c68-a44e-d81c9f032667",
   "metadata": {},
   "outputs": [
    {
     "name": "stdout",
     "output_type": "stream",
     "text": [
      "📂 正在加载数据集...\n"
     ]
    }
   ],
   "source": [
    "# 加载数据\n",
    "print(\"📂 正在加载数据集...\")\n",
    "X_train, y_train = load_dataset(\"Train\")\n",
    "X_val, y_val = load_dataset(\"Val\")\n",
    "X_test, y_test = load_dataset(\"Test\")"
   ]
  },
  {
   "cell_type": "code",
   "execution_count": 6,
   "id": "26ff0c96-c3ab-408a-8daa-d524f253f815",
   "metadata": {},
   "outputs": [
    {
     "name": "stdout",
     "output_type": "stream",
     "text": [
      "🧠 正在执行 PCA 降维...\n"
     ]
    }
   ],
   "source": [
    "# PCA 降维\n",
    "print(\"🧠 正在执行 PCA 降维...\")\n",
    "pca = PCA(n_components=0.95, svd_solver='full')\n",
    "X_train_pca = pca.fit_transform(X_train)\n",
    "X_val_pca = pca.transform(X_val)\n",
    "X_test_pca = pca.transform(X_test)"
   ]
  },
  {
   "cell_type": "code",
   "execution_count": 7,
   "id": "016e0c86-4d91-4e3f-813d-0e831b2ae5c5",
   "metadata": {},
   "outputs": [
    {
     "name": "stdout",
     "output_type": "stream",
     "text": [
      "📊 正在标准化...\n"
     ]
    }
   ],
   "source": [
    "# 标准化\n",
    "print(\"📊 正在标准化...\")\n",
    "scaler = StandardScaler()\n",
    "X_train_scaled = scaler.fit_transform(X_train_pca)\n",
    "X_val_scaled = scaler.transform(X_val_pca)\n",
    "X_test_scaled = scaler.transform(X_test_pca)"
   ]
  },
  {
   "cell_type": "code",
   "execution_count": 8,
   "id": "dc959759-3587-4251-8211-c37be67ad52d",
   "metadata": {},
   "outputs": [],
   "source": [
    "start_time = time.time()"
   ]
  },
  {
   "cell_type": "code",
   "execution_count": 9,
   "id": "53066a51-4ac9-4a20-9d38-6582c6d359ec",
   "metadata": {},
   "outputs": [
    {
     "name": "stdout",
     "output_type": "stream",
     "text": [
      "🚀 开始训练 LinearSVC 模型...\n",
      "✅ 模型训练完成！\n"
     ]
    }
   ],
   "source": [
    "# 训练 LinearSVC\n",
    "print(\"🚀 开始训练 LinearSVC 模型...\")\n",
    "clf = LinearSVC(dual=False, max_iter=10000)\n",
    "clf.fit(X_train_scaled, y_train)\n",
    "print(\"✅ 模型训练完成！\")"
   ]
  },
  {
   "cell_type": "code",
   "execution_count": 10,
   "id": "63a673a9-cd1a-4a55-a36e-7c19f44edd82",
   "metadata": {},
   "outputs": [
    {
     "name": "stdout",
     "output_type": "stream",
     "text": [
      "Training time: 485.68 seconds\n"
     ]
    }
   ],
   "source": [
    "end_time = time.time()\n",
    "print(f\"Training time: {end_time - start_time:.2f} seconds\")"
   ]
  },
  {
   "cell_type": "code",
   "execution_count": 11,
   "id": "a1c2a71b-2dd1-4317-adac-d448c34b06e7",
   "metadata": {},
   "outputs": [
    {
     "name": "stdout",
     "output_type": "stream",
     "text": [
      "💾 模型已保存：linear_svc_model.joblib\n"
     ]
    }
   ],
   "source": [
    "# 保存模型\n",
    "dump(clf, \"linear_svc_model.joblib\")\n",
    "dump(pca, \"pca_model.joblib\")\n",
    "dump(scaler, \"scaler.joblib\")\n",
    "print(\"💾 模型已保存：linear_svc_model.joblib\")"
   ]
  },
  {
   "cell_type": "code",
   "execution_count": 12,
   "id": "b52eb60c-859d-4703-b603-3bb4ff6f685e",
   "metadata": {},
   "outputs": [
    {
     "name": "stdout",
     "output_type": "stream",
     "text": [
      "Validation set evaluation:\n",
      "Validation accuracy: 0.6600781768567003\n",
      "Classification report:\n",
      "               precision    recall  f1-score   support\n",
      "\n",
      "           0       0.67      0.64      0.65     13555\n",
      "           1       0.65      0.68      0.67     13563\n",
      "\n",
      "    accuracy                           0.66     27118\n",
      "   macro avg       0.66      0.66      0.66     27118\n",
      "weighted avg       0.66      0.66      0.66     27118\n",
      "\n"
     ]
    }
   ],
   "source": [
    "# 评估验证集\n",
    "print(\"Validation set evaluation:\")\n",
    "val_preds = clf.predict(X_val_scaled)\n",
    "print(\"Validation accuracy:\", accuracy_score(y_val, val_preds))\n",
    "print(\"Classification report:\\n\", classification_report(y_val, val_preds))"
   ]
  },
  {
   "cell_type": "code",
   "execution_count": 13,
   "id": "ad01b48c-042b-438c-850d-ca87de2f3ffc",
   "metadata": {},
   "outputs": [
    {
     "name": "stdout",
     "output_type": "stream",
     "text": [
      "Test set evaluation:\n",
      "Test accuracy: 0.6345029239766082\n",
      "Classification report:\n",
      "               precision    recall  f1-score   support\n",
      "\n",
      "           0       0.64      0.61      0.62      5431\n",
      "           1       0.63      0.66      0.64      5513\n",
      "\n",
      "    accuracy                           0.63     10944\n",
      "   macro avg       0.63      0.63      0.63     10944\n",
      "weighted avg       0.63      0.63      0.63     10944\n",
      "\n"
     ]
    }
   ],
   "source": [
    "# 评估测试集\n",
    "print(\"Test set evaluation:\")\n",
    "test_preds = clf.predict(X_test_scaled)\n",
    "print(\"Test accuracy:\", accuracy_score(y_test, test_preds))\n",
    "print(\"Classification report:\\n\", classification_report(y_test, test_preds))"
   ]
  },
  {
   "cell_type": "code",
   "execution_count": 14,
   "id": "ad6439f8-a7ea-4899-aef0-92e9bd7152ac",
   "metadata": {},
   "outputs": [
    {
     "name": "stdout",
     "output_type": "stream",
     "text": [
      "CPU Usage: 13.2%\n",
      "Memory Usage: 12.02 GB\n"
     ]
    }
   ],
   "source": [
    "# 记录 CPU 和内存\n",
    "cpu_percent = psutil.cpu_percent()\n",
    "virtual_memory = psutil.virtual_memory().used / (1024 ** 3)\n",
    "print(f\"CPU Usage: {cpu_percent}%\")\n",
    "print(f\"Memory Usage: {virtual_memory:.2f} GB\")"
   ]
  }
 ],
 "metadata": {
  "kernelspec": {
   "display_name": "Python (tf-env)",
   "language": "python",
   "name": "tf-env"
  },
  "language_info": {
   "codemirror_mode": {
    "name": "ipython",
    "version": 3
   },
   "file_extension": ".py",
   "mimetype": "text/x-python",
   "name": "python",
   "nbconvert_exporter": "python",
   "pygments_lexer": "ipython3",
   "version": "3.10.18"
  }
 },
 "nbformat": 4,
 "nbformat_minor": 5
}
