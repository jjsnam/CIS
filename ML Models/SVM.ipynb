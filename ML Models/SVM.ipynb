{
 "cells": [
  {
   "cell_type": "code",
   "execution_count": 1,
   "id": "4e402f9c",
   "metadata": {},
   "outputs": [
    {
     "name": "stderr",
     "output_type": "stream",
     "text": [
      "Loading real: 100%|██████████| 33217/33217 [00:10<00:00, 3205.99it/s]\n",
      "Loading fake: 100%|██████████| 31936/31936 [00:09<00:00, 3334.55it/s]\n",
      "Loading real: 100%|██████████| 7071/7071 [00:02<00:00, 3306.22it/s]\n",
      "Loading fake: 100%|██████████| 8600/8600 [00:02<00:00, 3257.53it/s]"
     ]
    },
    {
     "name": "stdout",
     "output_type": "stream",
     "text": [
      "Train shape: (65153, 1024), Test shape: (15671, 1024)\n"
     ]
    },
    {
     "name": "stderr",
     "output_type": "stream",
     "text": [
      "\n"
     ]
    }
   ],
   "source": [
    "import os\n",
    "import cv2\n",
    "import numpy as np\n",
    "from sklearn.svm import LinearSVC\n",
    "from sklearn.metrics import classification_report, accuracy_score\n",
    "from tqdm import tqdm\n",
    "from sklearn.decomposition import PCA\n",
    "\n",
    "def load_data_from_folder(folder_path, image_size=(32, 32)):\n",
    "    X, y = [], []\n",
    "    for label_name in ['real', 'fake']:\n",
    "        label_dir = os.path.join(folder_path, label_name)\n",
    "        label = 0 if label_name == 'real' else 1\n",
    "\n",
    "        for fname in tqdm(os.listdir(label_dir), desc=f\"Loading {label_name}\"):\n",
    "            fpath = os.path.join(label_dir, fname)\n",
    "            img = cv2.imread(fpath, cv2.IMREAD_GRAYSCALE)\n",
    "            if img is not None:\n",
    "                img = cv2.resize(img, image_size)\n",
    "                X.append(img.flatten())  # 将图像展平为1D向量\n",
    "                y.append(label)\n",
    "    return np.array(X), np.array(y)\n",
    "\n",
    "BASE_DIR = r'/root/Project/datasets/Celeb_V2/IdentitySplit'\n",
    "\n",
    "train_dir = os.path.join(BASE_DIR, 'Train')\n",
    "test_dir  = os.path.join(BASE_DIR, 'Val')\n",
    "\n",
    "X_train, y_train = load_data_from_folder(train_dir)\n",
    "X_test, y_test   = load_data_from_folder(test_dir)\n",
    "print(f\"Train shape: {X_train.shape}, Test shape: {X_test.shape}\")"
   ]
  },
  {
   "cell_type": "code",
   "execution_count": 2,
   "id": "b9839984",
   "metadata": {},
   "outputs": [
    {
     "name": "stdout",
     "output_type": "stream",
     "text": [
      "准确率： 0.5298321740795099\n",
      "\n",
      "分类报告：\n",
      "               precision    recall  f1-score   support\n",
      "\n",
      "           0       0.48      0.48      0.48      7071\n",
      "           1       0.57      0.57      0.57      8600\n",
      "\n",
      "    accuracy                           0.53     15671\n",
      "   macro avg       0.53      0.53      0.53     15671\n",
      "weighted avg       0.53      0.53      0.53     15671\n",
      "\n"
     ]
    }
   ],
   "source": [
    "pca = PCA(n_components=100)  # 可调整维度数\n",
    "X_train_pca = pca.fit_transform(X_train)\n",
    "X_test_pca  = pca.transform(X_test)\n",
    "\n",
    "clf = LinearSVC()\n",
    "clf.fit(X_train_pca, y_train)\n",
    "\n",
    "# 预测\n",
    "y_pred = clf.predict(X_test_pca)\n",
    "\n",
    "# 评估\n",
    "print(\"准确率：\", accuracy_score(y_test, y_pred))\n",
    "print(\"\\n分类报告：\\n\", classification_report(y_test, y_pred))"
   ]
  },
  {
   "cell_type": "code",
   "execution_count": 3,
   "id": "530e4ad2",
   "metadata": {},
   "outputs": [
    {
     "data": {
      "text/plain": [
       "['pca_model.pkl']"
      ]
     },
     "execution_count": 3,
     "metadata": {},
     "output_type": "execute_result"
    }
   ],
   "source": [
    "import joblib\n",
    "\n",
    "# 保存模型和 PCA\n",
    "joblib.dump(clf, 'svc_model.pkl')\n",
    "joblib.dump(pca, 'pca_model.pkl')"
   ]
  }
 ],
 "metadata": {
  "kernelspec": {
   "display_name": "Python 3",
   "language": "python",
   "name": "python3"
  },
  "language_info": {
   "codemirror_mode": {
    "name": "ipython",
    "version": 3
   },
   "file_extension": ".py",
   "mimetype": "text/x-python",
   "name": "python",
   "nbconvert_exporter": "python",
   "pygments_lexer": "ipython3",
   "version": "3.11.10"
  }
 },
 "nbformat": 4,
 "nbformat_minor": 5
}
