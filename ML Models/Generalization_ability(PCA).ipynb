{
 "cells": [
  {
   "cell_type": "code",
   "execution_count": 1,
   "id": "e1b4f574-50c8-4004-9ad3-0c045d7394de",
   "metadata": {},
   "outputs": [],
   "source": [
    "import os\n",
    "import numpy as np\n",
    "from PIL import Image\n",
    "from sklearn.decomposition import PCA\n",
    "from sklearn.svm import SVC\n",
    "from sklearn.metrics import accuracy_score\n",
    "from sklearn.utils import shuffle  \n",
    "import joblib\n",
    "from joblib import load\n",
    "from tqdm import tqdm\n"
   ]
  },
  {
   "cell_type": "code",
   "execution_count": 14,
   "id": "b469cf80-dcaf-4d05-87af-949894de2e9b",
   "metadata": {},
   "outputs": [],
   "source": [
    "# 设置测试数据路径\n",
    "DATA_DIR = r'C:\\Users\\19916\\Downloads\\datasets\\datasets\\OpenForensics\\Test'"
   ]
  },
  {
   "cell_type": "code",
   "execution_count": 3,
   "id": "499b53fd-8455-4cd3-af3a-fc944a9196ca",
   "metadata": {},
   "outputs": [],
   "source": [
    "def load_images_from_folder(folder):\n",
    "    data = []\n",
    "    for filename in os.listdir(folder):\n",
    "        if filename.lower().endswith((\".jpg\", \".png\", \".jpeg\")):\n",
    "            img_path = os.path.join(folder, filename)\n",
    "            try:\n",
    "                image = Image.open(img_path).convert(\"L\")  \n",
    "                image = image.resize((64, 64))  \n",
    "                data.append(np.array(image).flatten())  \n",
    "            except Exception as e:\n",
    "                print(f\"无法读取图像 {img_path}，跳过：{e}\")\n",
    "    return data"
   ]
  },
  {
   "cell_type": "code",
   "execution_count": 4,
   "id": "84092afb-1445-4f5b-8be6-85a0fd31f4ba",
   "metadata": {},
   "outputs": [],
   "source": [
    "def load_dataset(set_name):\n",
    "    real_path = os.path.join(DATA_DIR, set_name, \"real\")\n",
    "    fake_path = os.path.join(DATA_DIR, set_name, \"fake\")\n",
    "\n",
    "    real_images = load_images_from_folder(real_path)\n",
    "    fake_images = load_images_from_folder(fake_path)\n",
    "\n",
    "    X = np.array(real_images + fake_images)\n",
    "    y = np.array([0] * len(real_images) + [1] * len(fake_images))  # 0: real, 1: fake\n",
    "\n",
    "    return shuffle(X, y, random_state=42)"
   ]
  },
  {
   "cell_type": "code",
   "execution_count": 15,
   "id": "9fd4b187-f956-40ac-a2d2-8494fdaaf0d7",
   "metadata": {},
   "outputs": [
    {
     "name": "stdout",
     "output_type": "stream",
     "text": [
      "📥 正在加载测试数据...\n"
     ]
    }
   ],
   "source": [
    "# 加载测试数据\n",
    "print(\"📥 正在加载测试数据...\")\n",
    "X_test, y_test = load_dataset(DATA_DIR)"
   ]
  },
  {
   "cell_type": "code",
   "execution_count": 16,
   "id": "cf0efe7a-0137-4fde-a628-9649b2f81a66",
   "metadata": {},
   "outputs": [],
   "source": [
    "# 加载模型\n",
    "clf = load(\"linear_svc_model.joblib\")\n",
    "pca = load(\"pca_model.joblib\")\n",
    "scaler = load(\"scaler.joblib\")"
   ]
  },
  {
   "cell_type": "code",
   "execution_count": 17,
   "id": "ca0159e4-fac0-46d1-905b-598b9e9c8c41",
   "metadata": {},
   "outputs": [],
   "source": [
    "# 数据降维\n",
    "X_test_pca = pca.transform(X_test)"
   ]
  },
  {
   "cell_type": "code",
   "execution_count": 18,
   "id": "48397e03-8e11-4125-a7e8-c02f65509987",
   "metadata": {},
   "outputs": [
    {
     "name": "stdout",
     "output_type": "stream",
     "text": [
      "The model's accuracy on OpenForensics is:0.6503\n"
     ]
    }
   ],
   "source": [
    "# 预测并评估\n",
    "y_pred = clf.predict(X_test_pca)\n",
    "accuracy = accuracy_score(y_test, y_pred)\n",
    "print(f\"The model's accuracy on OpenForensics is:{accuracy:.4f}\")"
   ]
  }
 ],
 "metadata": {
  "kernelspec": {
   "display_name": "Python (tf-env)",
   "language": "python",
   "name": "tf-env"
  },
  "language_info": {
   "codemirror_mode": {
    "name": "ipython",
    "version": 3
   },
   "file_extension": ".py",
   "mimetype": "text/x-python",
   "name": "python",
   "nbconvert_exporter": "python",
   "pygments_lexer": "ipython3",
   "version": "3.10.18"
  }
 },
 "nbformat": 4,
 "nbformat_minor": 5
}
