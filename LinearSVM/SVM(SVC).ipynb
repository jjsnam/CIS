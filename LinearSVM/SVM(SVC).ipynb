{
  "cells": [
    {
      "cell_type": "code",
      "source": [
        "from google.colab import drive\n",
        "drive.mount('/content/drive')"
      ],
      "metadata": {
        "colab": {
          "base_uri": "https://localhost:8080/"
        },
        "id": "CD03O2RDq0rm",
        "outputId": "fd1b7d83-b056-4515-d5ca-b57f4ae9c920"
      },
      "id": "CD03O2RDq0rm",
      "execution_count": 1,
      "outputs": [
        {
          "output_type": "stream",
          "name": "stdout",
          "text": [
            "Mounted at /content/drive\n"
          ]
        }
      ]
    },
    {
      "cell_type": "code",
      "source": [
        "import zipfile\n",
        "import os\n",
        "\n",
        "# 检查压缩包路径（根据实际路径修改）\n",
        "zip_path = '/content/drive/MyDrive/archive.zip'  # 如果在子文件夹中：'/content/drive/MyDrive/data/dataset.zip'\n",
        "\n",
        "# 创建解压目标文件夹\n",
        "!mkdir -p /content/dataset  # 在Colab临时空间解压（速度快）\n",
        "\n",
        "# 解压到/content/dataset\n",
        "with zipfile.ZipFile(zip_path, 'r') as zip_ref:\n",
        "    zip_ref.extractall('/content/dataset')\n",
        "\n",
        "print(\"解压完成！文件列表：\", os.listdir('/content/dataset'))\n"
      ],
      "metadata": {
        "colab": {
          "base_uri": "https://localhost:8080/"
        },
        "id": "Fsvc4pjfq3ZR",
        "outputId": "e471304c-2dd7-477b-9fae-fa5957c1724f"
      },
      "id": "Fsvc4pjfq3ZR",
      "execution_count": 2,
      "outputs": [
        {
          "output_type": "stream",
          "name": "stdout",
          "text": [
            "解压完成！文件列表： ['Celeb_V2']\n"
          ]
        }
      ]
    },
    {
      "cell_type": "code",
      "execution_count": 4,
      "id": "a25cd4ae-6115-47fc-bbc9-d9f538ad4425",
      "metadata": {
        "id": "a25cd4ae-6115-47fc-bbc9-d9f538ad4425"
      },
      "outputs": [],
      "source": [
        "import os\n",
        "import cv2\n",
        "import numpy as np\n",
        "from sklearn.svm import LinearSVC\n",
        "from sklearn.metrics import classification_report, accuracy_score\n",
        "from tqdm import tqdm\n",
        "from sklearn.decomposition import PCA"
      ]
    },
    {
      "cell_type": "code",
      "execution_count": 5,
      "id": "1ddb7fd4-7155-40b1-8692-32c7cff9c2c6",
      "metadata": {
        "id": "1ddb7fd4-7155-40b1-8692-32c7cff9c2c6"
      },
      "outputs": [],
      "source": [
        "def load_data_from_folder(folder_path, image_size=(32, 32)):\n",
        "    X, y = [], []\n",
        "    for label_name in ['real', 'fake']:\n",
        "        label_dir = os.path.join(folder_path, label_name)\n",
        "        label = 0 if label_name == 'real' else 1\n",
        "\n",
        "        for fname in tqdm(os.listdir(label_dir), desc=f\"Loading {label_name}\"):\n",
        "            fpath = os.path.join(label_dir, fname)\n",
        "            img = cv2.imread(fpath, cv2.IMREAD_GRAYSCALE)\n",
        "            if img is not None:\n",
        "                img = cv2.resize(img, image_size)\n",
        "                X.append(img.flatten())  # 将图像展平为1D向量\n",
        "                y.append(label)\n",
        "    return np.array(X), np.array(y)\n"
      ]
    },
    {
      "cell_type": "code",
      "execution_count": 8,
      "id": "5b9e074b-126d-4aa0-a383-f0bac5b1c1ea",
      "metadata": {
        "id": "5b9e074b-126d-4aa0-a383-f0bac5b1c1ea"
      },
      "outputs": [],
      "source": [
        "BASE_DIR = r'/content/dataset/Celeb_V2'\n",
        "\n",
        "train_dir = os.path.join(BASE_DIR, 'Train')\n",
        "test_dir  = os.path.join(BASE_DIR, 'Test')"
      ]
    },
    {
      "cell_type": "code",
      "execution_count": 7,
      "id": "d92da41d-ea7a-49c3-ae2e-c299175f4a28",
      "metadata": {
        "colab": {
          "base_uri": "https://localhost:8080/"
        },
        "id": "d92da41d-ea7a-49c3-ae2e-c299175f4a28",
        "outputId": "95fab6aa-7448-43ee-d2b0-78bff2a605a9"
      },
      "outputs": [
        {
          "output_type": "stream",
          "name": "stderr",
          "text": [
            "Loading real: 100%|██████████| 40288/40288 [00:19<00:00, 2077.44it/s]\n",
            "Loading fake: 100%|██████████| 40536/40536 [00:45<00:00, 881.88it/s] \n",
            "Loading real: 100%|██████████| 5036/5036 [00:05<00:00, 971.31it/s] \n",
            "Loading fake: 100%|██████████| 5067/5067 [00:05<00:00, 895.29it/s] "
          ]
        },
        {
          "output_type": "stream",
          "name": "stdout",
          "text": [
            "Train shape: (80824, 1024), Test shape: (10103, 1024)\n"
          ]
        },
        {
          "output_type": "stream",
          "name": "stderr",
          "text": [
            "\n"
          ]
        }
      ],
      "source": [
        "X_train, y_train = load_data_from_folder(train_dir)\n",
        "X_test, y_test   = load_data_from_folder(test_dir)\n",
        "print(f\"Train shape: {X_train.shape}, Test shape: {X_test.shape}\")"
      ]
    },
    {
      "cell_type": "code",
      "source": [
        "pca = PCA(n_components=100)  # 可调整维度数\n",
        "X_train_pca = pca.fit_transform(X_train)\n",
        "X_test_pca  = pca.transform(X_test)"
      ],
      "metadata": {
        "id": "hp3uQCpWs4V9"
      },
      "id": "hp3uQCpWs4V9",
      "execution_count": 9,
      "outputs": []
    },
    {
      "cell_type": "code",
      "source": [
        "clf = LinearSVC()\n",
        "clf.fit(X_train_pca, y_train)\n",
        "\n",
        "# 预测\n",
        "y_pred = clf.predict(X_test_pca)\n",
        "\n",
        "# 评估\n",
        "print(\"准确率：\", accuracy_score(y_test, y_pred))\n",
        "print(\"\\n分类报告：\\n\", classification_report(y_test, y_pred))\n"
      ],
      "metadata": {
        "colab": {
          "base_uri": "https://localhost:8080/"
        },
        "id": "q4AZiZU-s9li",
        "outputId": "55f78b0c-4db6-4676-bf2d-100778358e0d"
      },
      "id": "q4AZiZU-s9li",
      "execution_count": 10,
      "outputs": [
        {
          "output_type": "stream",
          "name": "stdout",
          "text": [
            "准确率： 0.601999406116995\n",
            "\n",
            "分类报告：\n",
            "               precision    recall  f1-score   support\n",
            "\n",
            "           0       0.61      0.55      0.58      5036\n",
            "           1       0.59      0.66      0.62      5067\n",
            "\n",
            "    accuracy                           0.60     10103\n",
            "   macro avg       0.60      0.60      0.60     10103\n",
            "weighted avg       0.60      0.60      0.60     10103\n",
            "\n"
          ]
        }
      ]
    },
    {
      "cell_type": "code",
      "source": [
        "import joblib\n",
        "\n",
        "# 保存模型和 PCA\n",
        "joblib.dump(clf, 'svc_model.pkl')\n",
        "joblib.dump(pca, 'pca_model.pkl')\n",
        "\n",
        "# 保存到 Google Drive\n",
        "!mv svc_model.pkl /content/drive/MyDrive/\n",
        "!mv pca_model.pkl /content/drive/MyDrive/\n"
      ],
      "metadata": {
        "id": "Hko-B0lvtI16"
      },
      "id": "Hko-B0lvtI16",
      "execution_count": 11,
      "outputs": []
    }
  ],
  "metadata": {
    "kernelspec": {
      "display_name": "Python (tf-env)",
      "language": "python",
      "name": "tf-env"
    },
    "language_info": {
      "codemirror_mode": {
        "name": "ipython",
        "version": 3
      },
      "file_extension": ".py",
      "mimetype": "text/x-python",
      "name": "python",
      "nbconvert_exporter": "python",
      "pygments_lexer": "ipython3",
      "version": "3.10.18"
    },
    "colab": {
      "provenance": []
    }
  },
  "nbformat": 4,
  "nbformat_minor": 5
}