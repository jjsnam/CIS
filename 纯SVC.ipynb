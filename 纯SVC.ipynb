{
 "cells": [
  {
   "cell_type": "code",
   "execution_count": 1,
   "id": "902da1d7-1b40-49ee-8c91-6bce343b4a0c",
   "metadata": {},
   "outputs": [],
   "source": [
    "import os\n",
    "import numpy as np\n",
    "import cv2\n",
    "import joblib\n",
    "import matplotlib.pyplot as plt\n",
    "from sklearn.svm import SVC\n",
    "from sklearn.metrics import classification_report, accuracy_score\n",
    "from sklearn.preprocessing import LabelEncoder\n",
    "from tqdm import tqdm"
   ]
  },
  {
   "cell_type": "code",
   "execution_count": 2,
   "id": "40eb1783-b274-42eb-bffd-e536d768aa3f",
   "metadata": {},
   "outputs": [],
   "source": [
    "def load_images_from_folder(folder_path, label, img_size=(64, 64)):\n",
    "    data = []\n",
    "    labels = []\n",
    "    for filename in tqdm(os.listdir(folder_path), desc=f\"Loading {label} from {os.path.basename(folder_path)}\"):\n",
    "        if filename.lower().endswith(('.png', '.jpg', '.jpeg', '.bmp')):\n",
    "            img_path = os.path.join(folder_path, filename)\n",
    "            try:\n",
    "                img = cv2.imread(img_path)  # BGR 图像\n",
    "                if img is None:\n",
    "                    continue\n",
    "                img = cv2.cvtColor(img, cv2.COLOR_BGR2RGB)  # 转换为 RGB\n",
    "                img_resized = cv2.resize(img, img_size)\n",
    "                img_flatten = img_resized.flatten()\n",
    "                data.append(img_flatten)\n",
    "                labels.append(label)\n",
    "            except Exception as e:\n",
    "                print(f\"Error loading {img_path}: {e}\")\n",
    "    return np.array(data), np.array(labels)"
   ]
  },
  {
   "cell_type": "code",
   "execution_count": 3,
   "id": "770e75a8-0179-4f16-9166-0d2f7b3f36af",
   "metadata": {},
   "outputs": [],
   "source": [
    "def load_dataset(base_path, img_size=(64, 64)):\n",
    "    sets = ['Train', 'Val', 'Test']\n",
    "    data = {}\n",
    "    for set_name in sets:\n",
    "        real_path = os.path.join(base_path, set_name, 'real')\n",
    "        fake_path = os.path.join(base_path, set_name, 'fake')\n",
    "\n",
    "        X_real, y_real = load_images_from_folder(real_path, 'real', img_size)\n",
    "        X_fake, y_fake = load_images_from_folder(fake_path, 'fake', img_size)\n",
    "\n",
    "        X = np.concatenate([X_real, X_fake], axis=0)\n",
    "        y = np.concatenate([y_real, y_fake], axis=0)\n",
    "\n",
    "        data[set_name] = (X, y)\n",
    "    return data"
   ]
  },
  {
   "cell_type": "code",
   "execution_count": 7,
   "id": "76c9685b-947a-4a7c-815c-0e946da2317c",
   "metadata": {},
   "outputs": [
    {
     "name": "stderr",
     "output_type": "stream",
     "text": [
      "Loading real from real:   1%|          | 182/33217 [00:00<00:18, 1813.20it/s]"
     ]
    },
    {
     "name": "stderr",
     "output_type": "stream",
     "text": [
      "Loading real from real: 100%|██████████| 33217/33217 [00:16<00:00, 1991.99it/s]\n",
      "Loading fake from fake: 100%|██████████| 31936/31936 [00:16<00:00, 1923.53it/s]\n",
      "Loading real from real: 100%|██████████| 7071/7071 [00:03<00:00, 1963.90it/s]\n",
      "Loading fake from fake: 100%|██████████| 8600/8600 [00:04<00:00, 1957.19it/s]\n",
      "Loading real from real: 100%|██████████| 5036/5036 [00:02<00:00, 1972.08it/s]\n",
      "Loading fake from fake: 100%|██████████| 5067/5067 [00:02<00:00, 1985.15it/s]\n"
     ]
    }
   ],
   "source": [
    "dataset_path = r'/root/Project/dataset/Celeb_V2'  # 改成你本地的路径\n",
    "data = load_dataset(dataset_path, img_size=(64, 64))\n",
    "\n",
    "X_train, y_train = data['Train']\n",
    "X_val, y_val = data['Val']\n",
    "X_test, y_test = data['Test']\n",
    "\n",
    "encoder = LabelEncoder()\n",
    "y_train_enc = encoder.fit_transform(y_train)\n",
    "y_val_enc = encoder.transform(y_val)\n",
    "y_test_enc = encoder.transform(y_test)\n"
   ]
  },
  {
   "cell_type": "code",
   "execution_count": null,
   "id": "ed1714eb-b6e5-4baa-b25b-e9af6320d4e2",
   "metadata": {},
   "outputs": [],
   "source": [
    "svc = SVC(kernel='linear', probability=True)\n",
    "svc.fit(X_train, y_train_enc)\n",
    "\n",
    "# 验证集性能\n",
    "y_val_pred = svc.predict(X_val)\n",
    "print(\"Validation Accuracy:\", accuracy_score(y_val_enc, y_val_pred))\n"
   ]
  },
  {
   "cell_type": "code",
   "execution_count": null,
   "id": "68dfa993-42fc-42ea-8101-11062b64f17b",
   "metadata": {},
   "outputs": [],
   "source": [
    "os.makedirs(\"models\", exist_ok=True)\n",
    "joblib.dump(svc, \"models/svc_model_cv2.joblib\")\n",
    "joblib.dump(encoder, \"models/label_encoder_cv2.joblib\")\n",
    "print(\"模型和标签编码器已保存。\")\n"
   ]
  },
  {
   "cell_type": "code",
   "execution_count": null,
   "id": "0fc3f193-a1e6-4fef-b16e-d52cf0e5b5d9",
   "metadata": {},
   "outputs": [],
   "source": [
    "loaded_svc = joblib.load(\"models/svc_model_cv2.joblib\")\n",
    "loaded_encoder = joblib.load(\"models/label_encoder_cv2.joblib\")\n",
    "\n",
    "y_test_pred = loaded_svc.predict(X_test)\n",
    "print(\"Test Accuracy:\", accuracy_score(y_test_enc, y_test_pred))\n",
    "print(\"Classification Report:\\n\", classification_report(y_test_enc, y_test_pred, target_names=loaded_encoder.classes_))\n"
   ]
  },
  {
   "cell_type": "code",
   "execution_count": null,
   "id": "c16d8d93-8ea1-43c2-81ca-b3648591add6",
   "metadata": {},
   "outputs": [],
   "source": [
    "def plot_sample_predictions(X, y_true, y_pred, n=5, img_size=(64, 64)):\n",
    "    plt.figure(figsize=(15, 3))\n",
    "    for i in range(n):\n",
    "        img = X[i].reshape((*img_size, 3))\n",
    "        true_label = encoder.inverse_transform([y_true[i]])[0]\n",
    "        pred_label = encoder.inverse_transform([y_pred[i]])[0]\n",
    "        plt.subplot(1, n, i+1)\n",
    "        plt.imshow(img.astype(np.uint8))\n",
    "        plt.title(f'True: {true_label}\\nPred: {pred_label}')\n",
    "        plt.axis('off')\n",
    "    plt.tight_layout()\n",
    "    plt.show()\n",
    "\n",
    "plot_sample_predictions(X_test, y_test_enc, y_test_pred, n=5)\n"
   ]
  }
 ],
 "metadata": {
  "kernelspec": {
   "display_name": "Python 3",
   "language": "python",
   "name": "python3"
  },
  "language_info": {
   "codemirror_mode": {
    "name": "ipython",
    "version": 3
   },
   "file_extension": ".py",
   "mimetype": "text/x-python",
   "name": "python",
   "nbconvert_exporter": "python",
   "pygments_lexer": "ipython3",
   "version": "3.11.10"
  }
 },
 "nbformat": 4,
 "nbformat_minor": 5
}
